{
 "cells": [
  {
   "cell_type": "code",
   "execution_count": 47,
   "metadata": {
    "collapsed": true
   },
   "outputs": [],
   "source": [
    "import pandas as pd\n",
    "from textblob import TextBlob\n",
    
    "import tweepy"
   ]
  },
  {
   "cell_type": "code",
   "execution_count": 48,
   "metadata": {
    "collapsed": true
   },
   "outputs": [],
   "source": [
    "consumer_key= 'AB5xRKsEv04phNrSgNNUwwHrs'\n",
    "consumer_secret= 'mIEmt1bFdpf5ckSS3iz3p3Ip93h7sFgk5kwE3pfQzQiknQqdKE'\n",
    "\n",
    "access_token='2707272738-xAkDoKNkdQPaeMYL7ZGiTKImdZEmNcueoi33gci'\n",
    "access_token_secret='1zGCv0ejvMbnEOxyXtdaboIp0cOkyCq6E8JrTZQFDtsUd'"
   ]
  },
  {
   "cell_type": "code",
   "execution_count": 49,
   "metadata": {
    "collapsed": false
   },
   "outputs": [],
   "source": [
    "auth = tweepy.OAuthHandler(consumer_key, consumer_secret)\n",
    "auth.set_access_token(access_token, access_token_secret)"
   ]
  },
  {
   "cell_type": "code",
   "execution_count": 50,
   "metadata": {
    "collapsed": true
   },
   "outputs": [],
   "source": [
    "api = tweepy.API(auth)"
   ]
  },
  {
   "cell_type": "code",
   "execution_count": 51,
   "metadata": {
    "collapsed": true
   },
   "outputs": [],
   "source": [
    "public_tweets = api.search('Trump')"
   ]
  },
  {
   "cell_type": "code",
   "execution_count": 52,
   "metadata": {
    "collapsed": true
   },
   "outputs": [],
   "source": [
    "def find_Sentiment(val):\n",
    "    if val<=0.25 and val>=-0.25:\n",
    "        return 'Neutral'\n",
    "    elif val>0.25:\n",
    "        return 'Positive'\n",
    "    else:\n",
    "        return 'Negative'"
   ]
  },
   "data = []\n",
  {
   "cell_type": "code",
   "execution_count": 53,
   "metadata": {
    "collapsed": false
   },
   "outputs": [],
   "source": [
   
    "for tweet in public_tweets:\n",
    "    analysis = TextBlob(tweet.text)\n",
    "    sentiment = find_Sentiment(analysis.sentiment.polarity)\n",
    "    dic = {}\n",
    "    dic['Tweet'] = tweet.text\n",
    "    dic['Sentiment'] = sentiment\n",
    "    data.append(dic)\n",
    "df = pd.DataFrame(data)"
   ]
  },
  {
   "cell_type": "code",
   "execution_count": 54,
   "metadata": {
    "collapsed": false
   },
   "outputs": [
    {
     "data": {
      "text/html": [
       "<div>\n",
       "<table border=\"1\" class=\"dataframe\">\n",
       "  <thead>\n",
       "    <tr style=\"text-align: right;\">\n",
       "      <th></th>\n",
       "      <th>Sentiment</th>\n",
       "      <th>Tweet</th>\n",
       "    </tr>\n",
       "  </thead>\n",
       "  <tbody>\n",
       "    <tr>\n",
       "      <th>0</th>\n",
       "      <td>Neutral</td>\n",
       "      <td>Every time @SpeakerRyan offers a wimp response...</td>\n",
       "    </tr>\n",
       "    <tr>\n",
       "      <th>1</th>\n",
       "      <td>Neutral</td>\n",
       "      <td>RT @DavidCornDC: If Trump leans on Comey to pr...</td>\n",
       "    </tr>\n",
       "    <tr>\n",
       "      <th>2</th>\n",
       "      <td>Neutral</td>\n",
       "      <td>RT @NYTupelo7: Trump wants to get \"RID\" of res...</td>\n",
       "    </tr>\n",
       "    <tr>\n",
       "      <th>3</th>\n",
       "      <td>Negative</td>\n",
       "      <td>RT @phoenixnewtimes: And here's how people in ...</td>\n",
       "    </tr>\n",
       "    <tr>\n",
       "      <th>4</th>\n",
       "      <td>Neutral</td>\n",
       "      <td>Arpaio pardon flouts constitution, ex-White Ho...</td>\n",
       "    </tr>\n",
       "    <tr>\n",
       "      <th>5</th>\n",
       "      <td>Positive</td>\n",
       "      <td>RT @cher: What Trump has undone - The Washingt...</td>\n",
       "    </tr>\n",
       "    <tr>\n",
       "      <th>6</th>\n",
       "      <td>Positive</td>\n",
       "      <td>If #trump needed help before he will need more...</td>\n",
       "    </tr>\n",
       "    <tr>\n",
       "      <th>7</th>\n",
       "      <td>Neutral</td>\n",
       "      <td>RT @frankieboyle: I wrote an article for the G...</td>\n",
       "    </tr>\n",
       "    <tr>\n",
       "      <th>8</th>\n",
       "      <td>Neutral</td>\n",
       "      <td>RT @peterdaou: For people who bashed Hillary a...</td>\n",
       "    </tr>\n",
       "    <tr>\n",
       "      <th>9</th>\n",
       "      <td>Positive</td>\n",
       "      <td>RT @thehill: Top Dem: Trump pardoning Arpaio i...</td>\n",
       "    </tr>\n",
       "    <tr>\n",
       "      <th>10</th>\n",
       "      <td>Neutral</td>\n",
       "      <td>RT @notmeraymond: this is what the trump white...</td>\n",
       "    </tr>\n",
       "    <tr>\n",
       "      <th>11</th>\n",
       "      <td>Neutral</td>\n",
       "      <td>RT @veteranhank: I stand with Trump. He won't ...</td>\n",
       "    </tr>\n",
       "    <tr>\n",
       "      <th>12</th>\n",
       "      <td>Neutral</td>\n",
       "      <td>RT @ProgressOutlook: Trump staffers use encryp...</td>\n",
       "    </tr>\n",
       "  </tbody>\n",
       "</table>\n",
       "</div>"
      ],
      "text/plain": [
       "   Sentiment                                              Tweet\n",
       "0    Neutral  Every time @SpeakerRyan offers a wimp response...\n",
       "1    Neutral  RT @DavidCornDC: If Trump leans on Comey to pr...\n",
       "2    Neutral  RT @NYTupelo7: Trump wants to get \"RID\" of res...\n",
       "3   Negative  RT @phoenixnewtimes: And here's how people in ...\n",
       "4    Neutral  Arpaio pardon flouts constitution, ex-White Ho...\n",
       "5   Positive  RT @cher: What Trump has undone - The Washingt...\n",
       "6   Positive  If #trump needed help before he will need more...\n",
       "7    Neutral  RT @frankieboyle: I wrote an article for the G...\n",
       "8    Neutral  RT @peterdaou: For people who bashed Hillary a...\n",
       "9   Positive  RT @thehill: Top Dem: Trump pardoning Arpaio i...\n",
       "10   Neutral  RT @notmeraymond: this is what the trump white...\n",
       "11   Neutral  RT @veteranhank: I stand with Trump. He won't ...\n",
       "12   Neutral  RT @ProgressOutlook: Trump staffers use encryp..."
      ]
     },
     "execution_count": 54,
     "metadata": {},
     "output_type": "execute_result"
    }
   ],
   "source": [
    "df"
   ]
  },
  {
   "cell_type": "code",
   "execution_count": 55,
   "metadata": {
    "collapsed": true
   },
   "outputs": [],
   "source": [
    "df.to_csv('out.csv')"
   ]
  },
  {
   "cell_type": "code",
   "execution_count": 56,
   "metadata": {
    "collapsed": false
   },
   "outputs": [
    {
     "name": "stdout",
     "output_type": "stream",
     "text": [
      "RT @NYTupelo7: Trump wants to get \"RID\" of respectable media, the most vulnerable among us (sick, elderly, disabled, &amp; poor), non-whites, &amp;…\n"
     ]
    }
   ],
   "source": [
    "print (df.iloc[2].Tweet)"
   ]
  }
 ],
 "metadata": {
  "anaconda-cloud": {},
  "kernelspec": {
   "display_name": "Python [conda root]",
   "language": "python",
   "name": "conda-root-py"
  },
  "language_info": {
   "codemirror_mode": {
    "name": "ipython",
    "version": 3
   },
   "file_extension": ".py",
   "mimetype": "text/x-python",
   "name": "python",
   "nbconvert_exporter": "python",
   "pygments_lexer": "ipython3",
   "version": "3.5.2"
  }
 },
 "nbformat": 4,
 "nbformat_minor": 1
}
